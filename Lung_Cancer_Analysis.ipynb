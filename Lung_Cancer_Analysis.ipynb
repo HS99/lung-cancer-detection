{
 "cells": [
  {
   "cell_type": "code",
   "execution_count": 2,
   "metadata": {
    "collapsed": false
   },
   "outputs": [
    {
     "data": {
      "text/plain": [
       "['.DS_Store',\n",
       " '.git',\n",
       " '.ipynb_checkpoints',\n",
       " '0a67f9edb4915467ac16a565955898d3.dcm',\n",
       " '0eb4e3cae3de93e50431cf12bdc6c93d.dcm',\n",
       " '0ee5d4356994089451c46f3e918e491e.dcm',\n",
       " '1af1f927ac1cfb73967b98620d695532.dcm',\n",
       " '1b8a1b8844d5ffa0c36d2184e1e03257.dcm',\n",
       " 'data_password.txt',\n",
       " 'Lung_Cancer_Analysis.ipynb',\n",
       " 'README.md',\n",
       " 'sample_images',\n",
       " 'stage1_labels.csv',\n",
       " 'stage1_sample_submission.csv']"
      ]
     },
     "execution_count": 2,
     "metadata": {},
     "output_type": "execute_result"
    }
   ],
   "source": [
    "import numpy as np # linear algebra\n",
    "import pandas as pd # data processing, CSV file I/O (e.g. pd.read_csv)\n",
    "import matplotlib.pyplot as plt\n",
    "import seaborn as sns\n",
    "import os\n",
    "import glob\n",
    "%matplotlib inline\n",
    "p = sns.color_palette()\n",
    "\n",
    "os.listdir('./')"
   ]
  },
  {
   "cell_type": "code",
   "execution_count": 5,
   "metadata": {
    "collapsed": false
   },
   "outputs": [
    {
     "name": "stdout",
     "output_type": "stream",
     "text": [
      "Patient '00cba091fa4ad62cc3200a657aeb957e' has 134 scans\n",
      "Patient '0a099f2549429d29b32f349e95fb2244' has 128 scans\n",
      "Patient '0a0c32c9e08cc2ea76a71649de56be6d' has 133 scans\n",
      "Patient '0a38e7597ca26f9374f8ea2770ba870d' has 110 scans\n",
      "Patient '0acbebb8d463b4b9ca88cf38431aac69' has 203 scans\n",
      "Patient '0b20184e0cd497028bdd155d9fb42dc9' has 196 scans\n",
      "Patient '0bd0e3056cbf23a1cb7f0f0b18446068' has 280 scans\n",
      "Patient '0c0de3749d4fe175b7a5098b060982a1' has 123 scans\n",
      "Patient '0c37613214faddf8701ca41e6d43f56e' has 164 scans\n",
      "Patient '0c59313f52304e25d5a7dcf9877633b1' has 244 scans\n",
      "Patient '0c60f4b87afcb3e2dfa65abbbf3ef2f9' has 136 scans\n",
      "Patient '0c98fcb55e3f36d0c2b6507f62f4c5f1' has 180 scans\n",
      "Patient '0c9d8314f9c69840e25febabb1229fa4' has 221 scans\n",
      "Patient '0ca943d821204ceb089510f836a367fd' has 147 scans\n",
      "Patient '0d06d764d3c07572074d468b4cff954f' has 435 scans\n",
      "Patient '0d19f1c627df49eb223771c28548350e' has 183 scans\n",
      "Patient '0d2fcf787026fece4e57be167d079383' has 126 scans\n",
      "Patient '0d941a3ad6c889ac451caf89c46cb92a' has 177 scans\n",
      "Patient '0ddeb08e9c97227853422bd71a2a695e' has 171 scans\n",
      "Patient '0de72529c30fe642bc60dcb75c87f6bd' has 113 scans\n",
      "----\n",
      "Total patients 21 Total DCM files 3604\n"
     ]
    }
   ],
   "source": [
    "for d in os.listdir('./sample_images'):\n",
    "    if '.DS_Store' not in d:\n",
    "        print(\"Patient '{}' has {} scans\".format(d, len(os.listdir('./sample_images/' + d))))\n",
    "print('----')\n",
    "print('Total patients {} Total DCM files {}'.format(len(os.listdir('./sample_images')), \n",
    "                                                      len(glob.glob('./sample_images/*/*.dcm'))))"
   ]
  },
  {
   "cell_type": "code",
   "execution_count": 9,
   "metadata": {
    "collapsed": false
   },
   "outputs": [
    {
     "data": {
      "text/plain": [
       "<matplotlib.text.Text at 0x11791f3d0>"
      ]
     },
     "execution_count": 9,
     "metadata": {},
     "output_type": "execute_result"
    },
    {
     "data": {
      "image/png": "[encoded data removed]",
      "text/plain": [
       "<matplotlib.figure.Figure at 0x103be1d50>"
      ]
     },
     "metadata": {},
     "output_type": "display_data"
    }
   ],
   "source": [
    "patient_sizes = [len(os.listdir('./sample_images/' + d)) for d in os.listdir('./sample_images') if '.DS_Store' not in d]\n",
    "plt.hist(patient_sizes, color=p[2])\n",
    "plt.ylabel('Number of patients')\n",
    "plt.xlabel('DICOM files')\n",
    "plt.title('Histogram of DICOM count per patient')"
   ]
  },
  {
   "cell_type": "markdown",
   "metadata": {},
   "source": [
    "# Training Set"
   ]
  },
  {
   "cell_type": "code",
   "execution_count": 10,
   "metadata": {
    "collapsed": false
   },
   "outputs": [
    {
     "data": {
      "text/html": [
       "<div>\n",
       "<table border=\"1\" class=\"dataframe\">\n",
       "  <thead>\n",
       "    <tr style=\"text-align: right;\">\n",
       "      <th></th>\n",
       "      <th>id</th>\n",
       "      <th>cancer</th>\n",
       "    </tr>\n",
       "  </thead>\n",
       "  <tbody>\n",
       "    <tr>\n",
       "      <th>0</th>\n",
       "      <td>0015ceb851d7251b8f399e39779d1e7d</td>\n",
       "      <td>1</td>\n",
       "    </tr>\n",
       "    <tr>\n",
       "      <th>1</th>\n",
       "      <td>0030a160d58723ff36d73f41b170ec21</td>\n",
       "      <td>0</td>\n",
       "    </tr>\n",
       "    <tr>\n",
       "      <th>2</th>\n",
       "      <td>003f41c78e6acfa92430a057ac0b306e</td>\n",
       "      <td>0</td>\n",
       "    </tr>\n",
       "    <tr>\n",
       "      <th>3</th>\n",
       "      <td>006b96310a37b36cccb2ab48d10b49a3</td>\n",
       "      <td>1</td>\n",
       "    </tr>\n",
       "    <tr>\n",
       "      <th>4</th>\n",
       "      <td>008464bb8521d09a42985dd8add3d0d2</td>\n",
       "      <td>1</td>\n",
       "    </tr>\n",
       "  </tbody>\n",
       "</table>\n",
       "</div>"
      ],
      "text/plain": [
       "                                 id  cancer\n",
       "0  0015ceb851d7251b8f399e39779d1e7d       1\n",
       "1  0030a160d58723ff36d73f41b170ec21       0\n",
       "2  003f41c78e6acfa92430a057ac0b306e       0\n",
       "3  006b96310a37b36cccb2ab48d10b49a3       1\n",
       "4  008464bb8521d09a42985dd8add3d0d2       1"
      ]
     },
     "execution_count": 10,
     "metadata": {},
     "output_type": "execute_result"
    }
   ],
   "source": [
    "df_train = pd.read_csv('./stage1_labels.csv')\n",
    "df_train.head()"
   ]
  },
  {
   "cell_type": "code",
   "execution_count": 11,
   "metadata": {
    "collapsed": false
   },
   "outputs": [
    {
     "name": "stdout",
     "output_type": "stream",
     "text": [
      "Number of training patients: 1397\n",
      "Cancer rate: 25.91%\n"
     ]
    }
   ],
   "source": [
    "print('Number of training patients: {}'.format(len(df_train)))\n",
    "print('Cancer rate: {:.4}%'.format(df_train.cancer.mean()*100))"
   ]
  },
  {
   "cell_type": "markdown",
   "metadata": {},
   "source": [
    "# Naive Submission\n",
    "Since the evaluation metric used in this competition is LogLoss and not something like AUC, this means that we can often gain an improvement just by aligning the probabilities of our sample submission to that of the training set.\n",
    "Before I try making a naive submission, I will calculate what the score of this submission would be on the training set to get a comparison."
   ]
  },
  {
   "cell_type": "code",
   "execution_count": 12,
   "metadata": {
    "collapsed": false
   },
   "outputs": [
    {
     "name": "stdout",
     "output_type": "stream",
     "text": [
      "Training logloss is 0.572141489479\n"
     ]
    }
   ],
   "source": [
    "from sklearn.metrics import log_loss\n",
    "logloss = log_loss(df_train.cancer, np.zeros_like(df_train.cancer) + df_train.cancer.mean())\n",
    "print('Training logloss is {}'.format(logloss))"
   ]
  },
  {
   "cell_type": "code",
   "execution_count": 14,
   "metadata": {
    "collapsed": false
   },
   "outputs": [],
   "source": [
    "sample = pd.read_csv('./stage1_sample_submission.csv')\n",
    "sample['cancer'] = df_train.cancer.mean()\n",
    "sample.to_csv('naive_submission.csv', index=False)"
   ]
  },
  {
   "cell_type": "markdown",
   "metadata": {},
   "source": [
    "# Looking at images"
   ]
  },
  {
   "cell_type": "code",
   "execution_count": 15,
   "metadata": {
    "collapsed": false
   },
   "outputs": [
    {
     "ename": "ImportError",
     "evalue": "No module named dicom",
     "output_type": "error",
     "traceback": [
      "\u001b[0;31m---------------------------------------------------------------------------\u001b[0m",
      "\u001b[0;31mImportError\u001b[0m                               Traceback (most recent call last)",
      "\u001b[0;32m<ipython-input-15-0880ade58d22>\u001b[0m in \u001b[0;36m<module>\u001b[0;34m()\u001b[0m\n\u001b[0;32m----> 1\u001b[0;31m \u001b[0;32mimport\u001b[0m \u001b[0mdicom\u001b[0m\u001b[0;34m\u001b[0m\u001b[0m\n\u001b[0m",
      "\u001b[0;31mImportError\u001b[0m: No module named dicom"
     ]
    }
   ],
   "source": [
    "import dicom"
   ]
  },
  {
   "cell_type": "code",
   "execution_count": null,
   "metadata": {
    "collapsed": true
   },
   "outputs": [],
   "source": []
  }
 ],
 "metadata": {
  "anaconda-cloud": {},
  "kernelspec": {
   "display_name": "Python [Root]",
   "language": "python",
   "name": "Python [Root]"
  },
  "language_info": {
   "codemirror_mode": {
    "name": "ipython",
    "version": 2
   },
   "file_extension": ".py",
   "mimetype": "text/x-python",
   "name": "python",
   "nbconvert_exporter": "python",
   "pygments_lexer": "ipython2",
   "version": "2.7.12"
  }
 },
 "nbformat": 4,
 "nbformat_minor": 0
}
